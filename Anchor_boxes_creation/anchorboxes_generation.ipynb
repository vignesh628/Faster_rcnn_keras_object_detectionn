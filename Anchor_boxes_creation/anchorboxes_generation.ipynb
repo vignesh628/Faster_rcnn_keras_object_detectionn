{
 "cells": [
  {
   "cell_type": "code",
   "execution_count": 26,
   "metadata": {},
   "outputs": [],
   "source": [
    "class Foo(object):\n",
    "    def __init__(self, x):\n",
    "        self.y = x\n",
    "    def get_config(self):\n",
    "        print(\"in class\")\n",
    "        return 8\n",
    "class Bar(Foo):\n",
    "    def __init__(self, x):\n",
    "        super(Bar, self).__init__(x)\n",
    "    def get_config(self):\n",
    "        v=5\n",
    "        z=super(Bar, self).get_config()\n",
    "        self.initial_status = False\n",
    "        return z,v"
   ]
  },
  {
   "cell_type": "code",
   "execution_count": 5,
   "metadata": {},
   "outputs": [
    {
     "name": "stdout",
     "output_type": "stream",
     "text": [
      "****************\n",
      "1\n",
      "1\n",
      "64 64\n",
      "****************\n",
      "0.7071067811865475\n",
      "1.414213562373095\n",
      "45.25483399593904 90.50966799187808\n",
      "****************\n",
      "1.414213562373095\n",
      "0.7071067811865475\n",
      "90.50966799187808 45.25483399593904\n",
      "****************\n",
      "1\n",
      "1\n",
      "128 128\n",
      "****************\n",
      "0.7071067811865475\n",
      "1.414213562373095\n",
      "90.50966799187808 181.01933598375615\n",
      "****************\n",
      "1.414213562373095\n",
      "0.7071067811865475\n",
      "181.01933598375615 90.50966799187808\n",
      "****************\n",
      "1\n",
      "1\n",
      "256 256\n",
      "****************\n",
      "0.7071067811865475\n",
      "1.414213562373095\n",
      "181.01933598375615 362.0386719675123\n",
      "****************\n",
      "1.414213562373095\n",
      "0.7071067811865475\n",
      "362.0386719675123 181.01933598375615\n"
     ]
    }
   ],
   "source": [
    "import math\n",
    "anchor_sizes=[64, 128, 256]\n",
    "anchor_ratios=[[1, 1], [0.7071067811865475, 1.414213562373095], [1.414213562373095, 0.7071067811865475]]\n",
    "for anchor_size_idx in range(len(anchor_sizes)):\n",
    "    for anchor_ratio_idx in range(len(anchor_ratios)):\n",
    "        print('****************')\n",
    "        print(anchor_ratios[anchor_ratio_idx][0])\n",
    "        print(anchor_ratios[anchor_ratio_idx][1])\n",
    "        anchor_x = anchor_sizes[anchor_size_idx] * anchor_ratios[anchor_ratio_idx][0]\n",
    "        anchor_y = anchor_sizes[anchor_size_idx] * anchor_ratios[anchor_ratio_idx][1]\n",
    "        print(anchor_x,anchor_y)"
   ]
  },
  {
   "cell_type": "code",
   "execution_count": 94,
   "metadata": {},
   "outputs": [
    {
     "name": "stdout",
     "output_type": "stream",
     "text": [
      "-24.0 40.0\n",
      "-14.627416997969519 30.62741699796952\n",
      "-37.25483399593904 53.25483399593904\n",
      "-56.0 72.0\n",
      "-37.25483399593904 53.25483399593904\n",
      "-82.50966799187808 98.50966799187808\n",
      "-120.0 136.0\n",
      "-82.50966799187808 98.50966799187808\n",
      "-173.01933598375615 189.01933598375615\n"
     ]
    }
   ],
   "source": [
    "import math\n",
    "anchor_sizes=[64, 128, 256]\n",
    "anchor_ratios=[[1, 1], [0.7071067811865475, 1.414213562373095], [1.414213562373095, 0.7071067811865475]]\n",
    "output_width=18\n",
    "downscale=16\n",
    "for anchor_size_idx in range(len(anchor_sizes)):\n",
    "    for anchor_ratio_idx in range(len(anchor_ratios)):\n",
    "        anchor_x = anchor_sizes[anchor_size_idx] * anchor_ratios[anchor_ratio_idx][0]\n",
    "        anchor_y = anchor_sizes[anchor_size_idx] * anchor_ratios[anchor_ratio_idx][1]\n",
    "        for ix in range(output_width):\t\t\t\t\t\n",
    "            # x-coordinates of the current anchor box\t\n",
    "            x1_anc = downscale * (ix + 0.5) - anchor_x / 2\n",
    "            x2_anc = downscale * (ix + 0.5) + anchor_x / 2\n",
    "            print(x1_anc,x2_anc)\n",
    "            break\n",
    "       "
   ]
  },
  {
   "cell_type": "code",
   "execution_count": null,
   "metadata": {},
   "outputs": [],
   "source": [
    "import math\n",
    "anchor_sizes=[64, 128, 256]\n",
    "anchor_ratios=[[1, 1], [0.7071067811865475, 1.414213562373095], [1.414213562373095, 0.7071067811865475]]\n",
    "output_width=18\n",
    "downscale=16\n",
    "for anchor_size_idx in range(len(anchor_sizes)):\n",
    "    for anchor_ratio_idx in range(len(anchor_ratios)):\n",
    "        anchor_x = anchor_sizes[anchor_size_idx] * anchor_ratios[anchor_ratio_idx][0]\n",
    "        anchor_y = anchor_sizes[anchor_size_idx] * anchor_ratios[anchor_ratio_idx][1]\n",
    "        for ix in range(output_width):\t\t\t\t\t\n",
    "            # x-coordinates of the current anchor box\t\n",
    "            x1_anc = downscale * (ix + 0.5) - anchor_x / 2\n",
    "            x2_anc = downscale * (ix + 0.5) + anchor_x / 2\n",
    "            print(x1_anc)\n",
    "            print(x2_anc)\n",
    "            break"
   ]
  },
  {
   "cell_type": "code",
   "execution_count": 102,
   "metadata": {},
   "outputs": [
    {
     "name": "stdout",
     "output_type": "stream",
     "text": [
      "--- 3.790855407714844e-05 seconds ---\n"
     ]
    }
   ],
   "source": [
    "import time\n",
    "start_time = time.time()\n",
    "\n",
    "print(\"--- %s seconds ---\" % (time.time() - start_time))"
   ]
  },
  {
   "cell_type": "code",
   "execution_count": 100,
   "metadata": {},
   "outputs": [
    {
     "ename": "NameError",
     "evalue": "name 'resized_width' is not defined",
     "output_type": "error",
     "traceback": [
      "\u001b[0;31m---------------------------------------------------------------------------\u001b[0m",
      "\u001b[0;31mNameError\u001b[0m                                 Traceback (most recent call last)",
      "\u001b[0;32m<ipython-input-100-b533be1c96f1>\u001b[0m in \u001b[0;36m<module>\u001b[0;34m()\u001b[0m\n\u001b[1;32m     30\u001b[0m             \u001b[0;31m#We get the x coordinates of the current anchor boxes put over those image.\u001b[0m\u001b[0;34m\u001b[0m\u001b[0;34m\u001b[0m\u001b[0m\n\u001b[1;32m     31\u001b[0m             \u001b[0;31m#Ignore the x coordinates if the current coordinates cross over the image booundaries.\u001b[0m\u001b[0;34m\u001b[0m\u001b[0;34m\u001b[0m\u001b[0m\n\u001b[0;32m---> 32\u001b[0;31m             \u001b[0;32mif\u001b[0m \u001b[0mx1_anc\u001b[0m \u001b[0;34m<\u001b[0m \u001b[0;36m0\u001b[0m \u001b[0;32mor\u001b[0m \u001b[0mx2_anc\u001b[0m \u001b[0;34m>\u001b[0m \u001b[0mresized_width\u001b[0m\u001b[0;34m:\u001b[0m\u001b[0;34m\u001b[0m\u001b[0m\n\u001b[0m\u001b[1;32m     33\u001b[0m                 \u001b[0;32mcontinue\u001b[0m\u001b[0;34m\u001b[0m\u001b[0m\n\u001b[1;32m     34\u001b[0m             \u001b[0;31m#Get the y coordinates of the current anchor box put over the image. Ignore them if it cross the image boundaries.\u001b[0m\u001b[0;34m\u001b[0m\u001b[0;34m\u001b[0m\u001b[0m\n",
      "\u001b[0;31mNameError\u001b[0m: name 'resized_width' is not defined"
     ]
    }
   ],
   "source": [
    "#coordinates for one of the object in image.\n",
    "import numpy as np\n",
    "gta = np.zeros((1, 4))\n",
    "gta[0, 0]= 12.73792093704246\n",
    "gta[0, 2]=246.41288433382138\n",
    "gta[0, 1]= 25.431640625\n",
    "gta[0, 3]=114.4423828125\n",
    "num_bboxes=1\n",
    "import math\n",
    "anchor_sizes=[64, 128, 256]\n",
    "anchor_ratios=[[1, 1], [0.7071067811865475, 1.414213562373095], [1.414213562373095, 0.7071067811865475]]\n",
    "output_width=18\n",
    "downscale=16\n",
    "n_anchratios=len(anchor_ratios)\n",
    "for anchor_size_idx in range(len(anchor_sizes)):\n",
    "    for anchor_ratio_idx in range(n_anchratios):\n",
    "        anchor_x = anchor_sizes[anchor_size_idx] * anchor_ratios[anchor_ratio_idx][0]\n",
    "        anchor_y = anchor_sizes[anchor_size_idx] * anchor_ratios[anchor_ratio_idx][1]\n",
    "        # anchor x and anchor y are the tjhe various anchors we use like:64,64\n",
    "        #output_width is width of image based on the convolutional feature map ouput size eg:18.\n",
    "        for ix in range(output_width):\t\t\t\t\t\n",
    "            #For therange of ouput widht which is gnerally  18 for our data. we pass through the width.\n",
    "            # x-coordinates of the current anchor box\t\n",
    "            x1_anc = downscale * (ix + 0.5) - anchor_x / 2\n",
    "            x2_anc = downscale * (ix + 0.5) + anchor_x / 2\t\n",
    "            #multiply the downscale which is nothing but the stride.\n",
    "            #why we  are multiplying with downscale ??\n",
    "\n",
    "            #because we are putting it on original image.\n",
    "            #We get the x coordinates of the current anchor boxes put over those image.\n",
    "            #Ignore the x coordinates if the current coordinates cross over the image booundaries.\n",
    "            if x1_anc < 0 or x2_anc > resized_width:\n",
    "                continue\n",
    "            #Get the y coordinates of the current anchor box put over the image. Ignore them if it cross the image boundaries.\n",
    "\n",
    "            for jy in range(output_height):\n",
    "\n",
    "                # y-coordinates of the current anchor box\n",
    "                y1_anc = downscale * (jy + 0.5) - anchor_y / 2\n",
    "                y2_anc = downscale * (jy + 0.5) + anchor_y / 2\n",
    "\n",
    "                # ignore boxes that go across image boundaries\n",
    "                if y1_anc < 0 or y2_anc > resized_height:\n",
    "                    continue\n",
    "\n",
    "                # bbox_type indicates whether an anchor should be a target\n",
    "                # Initialize with 'negative'\n",
    "                #Intialize the bounding box as negative.\n",
    "                bbox_type = 'neg'\n",
    "\n",
    "                #We are taking the current anchor and initlaize the best IOU for the anchor is 0.0.\n",
    "                # this is the best IOU for the (x,y) coord and the current anchor\n",
    "                # note that this is different from the best IOU for a GT bbox\n",
    "                best_iou_for_loc = 0.0\n",
    "\n",
    "                #We have many objects in each training image. claculate the IOU with the current anchor with all the groundtruth image objects coordinates.\n",
    "\n",
    "                ###Till Now what we have done w.r.t anchors:\n",
    "                   # 1.Take the aanchor sizes and anchor ratios and rreduce them based on the downscale  and parse throught the widht and height of feature map.\n",
    "                # 2.It means for18*18 feature map parse througth width and height and get the anchor boxes based on the size of image. If these anchors crosses image ignore.                   \n",
    "                # 3.For current anchor Calculate the IOU and type of anchor  whether it is positive or negative or nuetral.\n",
    "                for bbox_num in range(num_bboxes):\n",
    "\n",
    "                    # get IOU of the current GT box and the current anchor box\n",
    "                    curr_iou = iou([gta[bbox_num, 0], gta[bbox_num, 2], gta[bbox_num, 1], gta[bbox_num, 3]], [x1_anc, y1_anc, x2_anc, y2_anc])\n",
    "                    # calculate the regression targets if they will be needed\n",
    "                    if curr_iou > best_iou_for_bbox[bbox_num] or curr_iou > C.rpn_max_overlap:\n",
    "                        cx = (gta[bbox_num, 0] + gta[bbox_num, 1]) / 2.0\n",
    "                        cy = (gta[bbox_num, 2] + gta[bbox_num, 3]) / 2.0"
   ]
  },
  {
   "cell_type": "code",
   "execution_count": 27,
   "metadata": {},
   "outputs": [
    {
     "data": {
      "text/plain": [
       "20"
      ]
     },
     "execution_count": 27,
     "metadata": {},
     "output_type": "execute_result"
    }
   ],
   "source": [
    "obj=Bar(20)\n",
    "obj.y"
   ]
  },
  {
   "cell_type": "code",
   "execution_count": 28,
   "metadata": {},
   "outputs": [
    {
     "name": "stdout",
     "output_type": "stream",
     "text": [
      "in class\n"
     ]
    }
   ],
   "source": [
    "m=obj.get_config()"
   ]
  },
  {
   "cell_type": "code",
   "execution_count": 29,
   "metadata": {},
   "outputs": [
    {
     "data": {
      "text/plain": [
       "(8, 5)"
      ]
     },
     "execution_count": 29,
     "metadata": {},
     "output_type": "execute_result"
    }
   ],
   "source": [
    "m"
   ]
  },
  {
   "cell_type": "code",
   "execution_count": 53,
   "metadata": {},
   "outputs": [],
   "source": [
    "class Foo(object):\n",
    "    def __init__(self, x):\n",
    "        self.x = x\n",
    "        #self.z = z\n",
    "    def get_config(self):\n",
    "        print(\"in class\")\n",
    "        return 8\n",
    "class Bar(Foo):\n",
    "    def __init__(self, x,z):\n",
    "        super(Bar, self).__init__(x)\n",
    "        self.z = z\n",
    "    def get_config(self):\n",
    "        v=5\n",
    "        z=super().get_config()\n",
    "        self.initial_status = False\n",
    "        return z,v"
   ]
  },
  {
   "cell_type": "code",
   "execution_count": 56,
   "metadata": {},
   "outputs": [],
   "source": [
    "obj=Bar(20,30)()"
   ]
  },
  {
   "cell_type": "code",
   "execution_count": 52,
   "metadata": {},
   "outputs": [
    {
     "name": "stdout",
     "output_type": "stream",
     "text": [
      "in class\n"
     ]
    },
    {
     "data": {
      "text/plain": [
       "(8, 5)"
      ]
     },
     "execution_count": 52,
     "metadata": {},
     "output_type": "execute_result"
    }
   ],
   "source": [
    "obj.get_config()"
   ]
  },
  {
   "cell_type": "code",
   "execution_count": null,
   "metadata": {},
   "outputs": [],
   "source": []
  }
 ],
 "metadata": {
  "kernelspec": {
   "display_name": "Python 3",
   "language": "python",
   "name": "python3"
  },
  "language_info": {
   "codemirror_mode": {
    "name": "ipython",
    "version": 3
   },
   "file_extension": ".py",
   "mimetype": "text/x-python",
   "name": "python",
   "nbconvert_exporter": "python",
   "pygments_lexer": "ipython3",
   "version": "3.6.5"
  }
 },
 "nbformat": 4,
 "nbformat_minor": 2
}
